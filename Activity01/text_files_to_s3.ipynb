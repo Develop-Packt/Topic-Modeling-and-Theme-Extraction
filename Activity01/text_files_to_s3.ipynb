{
 "cells": [
  {
   "cell_type": "code",
   "execution_count": 1,
   "metadata": {},
   "outputs": [
    {
     "name": "stdout",
     "output_type": "stream",
     "text": [
      "Completed uploading 1000 files.\n"
     ]
    }
   ],
   "source": [
    "import os\n",
    "import boto3\n",
    "\n",
    "# Create an S3 client\n",
    "s3 = boto3.client('s3')\n",
    "\n",
    "# Creates a variable with the bucket name\n",
    "BUCKET_NAME = 'aws-ml-input-for-topic-modeling-20200301' #'<insert the input bucket name>'\n",
    "BUCKET_FOLDER = 'movie_review_files/' \n",
    "\n",
    "# for Mac LOCAL_PATH = os.getcwd() +'/local_folder_movie_review_files/' \n",
    "LOCAL_PATH = os.getcwd() +'\\\\local_folder_movie_review_files\\\\'\n",
    "\n",
    "text_files_list = [f for f in os.listdir(LOCAL_PATH) if f.endswith('.txt')]\n",
    "\n",
    "file_count = 0\n",
    "for filename in text_files_list:\n",
    "    # print(filename)\n",
    "    file_count += 1\n",
    "    s3.upload_file(LOCAL_PATH + filename, BUCKET_NAME, BUCKET_FOLDER + filename)\n",
    "\n",
    "print(F\"Completed uploading {file_count} files.\")\n"
   ]
  },
  {
   "cell_type": "code",
   "execution_count": null,
   "metadata": {},
   "outputs": [],
   "source": []
  }
 ],
 "metadata": {
  "kernelspec": {
   "display_name": "Python 3",
   "language": "python",
   "name": "python3"
  },
  "language_info": {
   "codemirror_mode": {
    "name": "ipython",
    "version": 3
   },
   "file_extension": ".py",
   "mimetype": "text/x-python",
   "name": "python",
   "nbconvert_exporter": "python",
   "pygments_lexer": "ipython3",
   "version": "3.7.3"
  }
 },
 "nbformat": 4,
 "nbformat_minor": 4
}
