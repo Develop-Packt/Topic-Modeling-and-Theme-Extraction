{
 "cells": [
  {
   "cell_type": "code",
   "execution_count": 1,
   "metadata": {},
   "outputs": [],
   "source": [
    "import boto3\n",
    "\n",
    "# import pandas and assign to the popular 'pd' convention\n",
    "import pandas as pd "
   ]
  },
  {
   "cell_type": "code",
   "execution_count": 2,
   "metadata": {},
   "outputs": [
    {
     "data": {
      "text/plain": [
       "{'ResponseMetadata': {'RequestId': '335FE0842237CD71',\n",
       "  'HostId': 'A80wI6gGBaQrUWuk4tSUMJYOep7ZAcIuD6myH2+em5p+ClqI4Qm1GMqGMZvTAc9PvejnR6eiivg=',\n",
       "  'HTTPStatusCode': 200,\n",
       "  'HTTPHeaders': {'x-amz-id-2': 'A80wI6gGBaQrUWuk4tSUMJYOep7ZAcIuD6myH2+em5p+ClqI4Qm1GMqGMZvTAc9PvejnR6eiivg=',\n",
       "   'x-amz-request-id': '335FE0842237CD71',\n",
       "   'date': 'Tue, 03 Mar 2020 03:26:03 GMT',\n",
       "   'location': 'http://unknown-tm-analysis-20200302.s3.amazonaws.com/',\n",
       "   'content-length': '0',\n",
       "   'server': 'AmazonS3'},\n",
       "  'RetryAttempts': 0},\n",
       " 'Location': 'http://unknown-tm-analysis-20200302.s3.amazonaws.com/'}"
      ]
     },
     "execution_count": 2,
     "metadata": {},
     "output_type": "execute_result"
    }
   ],
   "source": [
    "# Setup a region\n",
    "region = 'us-west-2'\n",
    "# Create an S3 client\n",
    "s3 = boto3.client('s3',region_name = region)\n",
    "\n",
    "# Creates a variable with the bucket name\n",
    "bucket_name = 'unknown-tm-analysis-20200302' #'<insert a unique bucket name>' \n",
    "\n",
    "# Create a location Constraint\n",
    "location = {'LocationConstraint': region}\n",
    "# Creates a new bucket \n",
    "s3.create_bucket(Bucket=bucket_name,CreateBucketConfiguration=location)"
   ]
  },
  {
   "cell_type": "code",
   "execution_count": 3,
   "metadata": {},
   "outputs": [
    {
     "name": "stdout",
     "output_type": "stream",
     "text": [
      "              docname  topic  proportion      term    weight\n",
      "0      cv125_9636.txt      5    0.791506      time  0.010082\n",
      "1      cv125_9636.txt      5    0.791506     jones  0.005874\n",
      "2      cv125_9636.txt      5    0.791506  fugitive  0.003999\n",
      "3      cv125_9636.txt      5    0.791506       lee  0.004330\n",
      "4      cv125_9636.txt      5    0.791506      plot  0.007428\n",
      "...               ...    ...         ...       ...       ...\n",
      "43985  cv533_9843.txt     36    0.094384      hack  0.013879\n",
      "43986  cv533_9843.txt     36    0.094384     young  0.013752\n",
      "43987  cv533_9843.txt     36    0.094384     movie  0.029418\n",
      "43988  cv533_9843.txt     36    0.094384    murphy  0.010977\n",
      "43989  cv533_9843.txt     36    0.094384      time  0.015294\n",
      "\n",
      "[43990 rows x 5 columns]\n"
     ]
    }
   ],
   "source": [
    "# Create a list of file names\n",
    "filenames_list = ['doc-topics.csv', 'topic-terms.csv']\n",
    "\n",
    "# Iterates on each file in the  filenames_list\n",
    "for filename in filenames_list:\n",
    "    # Uploads each CSV to the created bucket\n",
    "    s3.upload_file(filename, bucket_name, filename)\n",
    "    # checks if the filename is 'doc-topics.csv'\n",
    "    if filename == 'doc-topics.csv':\n",
    "        # gets the 'doc-topics.csv' file as an object\n",
    "        obj = s3.get_object(Bucket=bucket_name, Key=filename)\n",
    "        # reads the csv and assigns to doc_topics \n",
    "        doc_topics = pd.read_csv(obj['Body'])\n",
    "    else:\n",
    "        obj = s3.get_object(Bucket=bucket_name, Key=filename)\n",
    "        topic_terms = pd.read_csv(obj['Body'])\n",
    "\n",
    "# merge files on topic column to obtain the most common terms per document\n",
    "merged_df = pd.merge(doc_topics, topic_terms, on='topic')\n",
    "\n",
    "# print the merged_df to the console\n",
    "print(merged_df) "
   ]
  },
  {
   "cell_type": "code",
   "execution_count": null,
   "metadata": {},
   "outputs": [],
   "source": []
  }
 ],
 "metadata": {
  "kernelspec": {
   "display_name": "Python 3",
   "language": "python",
   "name": "python3"
  },
  "language_info": {
   "codemirror_mode": {
    "name": "ipython",
    "version": 3
   },
   "file_extension": ".py",
   "mimetype": "text/x-python",
   "name": "python",
   "nbconvert_exporter": "python",
   "pygments_lexer": "ipython3",
   "version": "3.7.3"
  }
 },
 "nbformat": 4,
 "nbformat_minor": 4
}
