{
 "cells": [
  {
   "cell_type": "code",
   "execution_count": 2,
   "metadata": {},
   "outputs": [],
   "source": [
    "import boto3\n",
    "\n",
    "# import pandas and assign to the popular 'pd' convention\n",
    "import pandas as pd "
   ]
  },
  {
   "cell_type": "code",
   "execution_count": 5,
   "metadata": {},
   "outputs": [
    {
     "data": {
      "text/plain": [
       "{'ResponseMetadata': {'RequestId': '0A449359650B9B28',\n",
       "  'HostId': 'FidcK1B8TnO814WLh3BLwHTc+mLXVdcdsuHJc2N18XKsfVRWun9iVjC2F+Af/RRZqP+QeHczn/s=',\n",
       "  'HTTPStatusCode': 200,\n",
       "  'HTTPHeaders': {'x-amz-id-2': 'FidcK1B8TnO814WLh3BLwHTc+mLXVdcdsuHJc2N18XKsfVRWun9iVjC2F+Af/RRZqP+QeHczn/s=',\n",
       "   'x-amz-request-id': '0A449359650B9B28',\n",
       "   'date': 'Mon, 02 Mar 2020 20:07:45 GMT',\n",
       "   'location': 'http://known-tm-analysis-20200302.s3.amazonaws.com/',\n",
       "   'content-length': '0',\n",
       "   'server': 'AmazonS3'},\n",
       "  'RetryAttempts': 0},\n",
       " 'Location': 'http://known-tm-analysis-20200302.s3.amazonaws.com/'}"
      ]
     },
     "execution_count": 5,
     "metadata": {},
     "output_type": "execute_result"
    }
   ],
   "source": [
    "# Setup a region\n",
    "region = 'us-west-2'\n",
    "# Create an S3 client\n",
    "s3 = boto3.client('s3',region_name = region)\n",
    "\n",
    "# Creates a variable with the bucket name\n",
    "bucket_name = 'known-tm-analysis-20200302' #'<insert a unique bucket name>' \n",
    "\n",
    "# Create a location Constraint\n",
    "location = {'LocationConstraint': region}\n",
    "# Creates a new bucket \n",
    "s3.create_bucket(Bucket=bucket_name,CreateBucketConfiguration=location)"
   ]
  },
  {
   "cell_type": "code",
   "execution_count": 6,
   "metadata": {},
   "outputs": [
    {
     "name": "stdout",
     "output_type": "stream",
     "text": [
      "                      docname  topic  proportion     term    weight\n",
      "0        romeo_and_juliet.txt      1         1.0     thou  0.445132\n",
      "1        romeo_and_juliet.txt      1         1.0      thy  0.135586\n",
      "2        romeo_and_juliet.txt      1         1.0      rom  0.132411\n",
      "3        romeo_and_juliet.txt      1         1.0    nurse  0.091377\n",
      "4        romeo_and_juliet.txt      1         1.0     love  0.090925\n",
      "5        romeo_and_juliet.txt      1         1.0      you  0.053859\n",
      "6        romeo_and_juliet.txt      1         1.0    romeo  0.050709\n",
      "7   the_war_of_the_worlds.txt      0         1.0  martian  0.012308\n",
      "8   the_war_of_the_worlds.txt      0         1.0   people  0.007995\n",
      "9   the_war_of_the_worlds.txt      0         1.0    house  0.005948\n",
      "10  the_war_of_the_worlds.txt      0         1.0    black  0.005939\n",
      "11  the_war_of_the_worlds.txt      0         1.0     time  0.005855\n",
      "12  the_war_of_the_worlds.txt      0         1.0     road  0.005638\n",
      "13  the_war_of_the_worlds.txt      0         1.0    thing  0.005400\n",
      "14  the_war_of_the_worlds.txt      0         1.0    stand  0.005232\n",
      "15  the_war_of_the_worlds.txt      0         1.0      pit  0.004880\n",
      "16  the_war_of_the_worlds.txt      0         1.0  brother  0.004484\n"
     ]
    }
   ],
   "source": [
    "# Create a list of file names\n",
    "filenames_list = ['doc-topics.csv', 'topic-terms.csv']\n",
    "\n",
    "# Iterates on each file in the  filenames_list\n",
    "for filename in filenames_list:\n",
    "    # Uploads each CSV to the created bucket\n",
    "    s3.upload_file(filename, bucket_name, filename)\n",
    "    # checks if the filename is 'doc-topics.csv'\n",
    "    if filename == 'doc-topics.csv':\n",
    "        # gets the 'doc-topics.csv' file as an object\n",
    "        obj = s3.get_object(Bucket=bucket_name, Key=filename)\n",
    "        # reads the csv and assigns to doc_topics \n",
    "        doc_topics = pd.read_csv(obj['Body'])\n",
    "    else:\n",
    "        obj = s3.get_object(Bucket=bucket_name, Key=filename)\n",
    "        topic_terms = pd.read_csv(obj['Body'])\n",
    "\n",
    "# merge files on topic column to obtain the most common terms per document\n",
    "merged_df = pd.merge(doc_topics, topic_terms, on='topic')\n",
    "\n",
    "# print the merged_df to the console\n",
    "print(merged_df) "
   ]
  },
  {
   "cell_type": "code",
   "execution_count": null,
   "metadata": {},
   "outputs": [],
   "source": []
  }
 ],
 "metadata": {
  "kernelspec": {
   "display_name": "Python 3",
   "language": "python",
   "name": "python3"
  },
  "language_info": {
   "codemirror_mode": {
    "name": "ipython",
    "version": 3
   },
   "file_extension": ".py",
   "mimetype": "text/x-python",
   "name": "python",
   "nbconvert_exporter": "python",
   "pygments_lexer": "ipython3",
   "version": "3.7.3"
  }
 },
 "nbformat": 4,
 "nbformat_minor": 4
}
